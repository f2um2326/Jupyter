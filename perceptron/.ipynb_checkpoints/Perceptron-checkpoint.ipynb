{
 "cells": [
  {
   "cell_type": "markdown",
   "metadata": {},
   "source": [
    "# パーセプトロンアルゴリズム\n",
    "機械学習の手法のひとつ．2値分類の手法．\n",
    "\n",
    "クラスラベルは$+1$と$-1$で，以下の式によりクラスの分類をする．\n",
    "\n",
    "$y\\left( x\\right) =f\\left( w^{T}\\phi \\left( x\\right) \\right)$\n",
    "\n",
    "ここで\n",
    "\n",
    "$f\\left( a\\right) =\\begin{cases} +1,a\\geq 0\\\\ -1,a < 0\\end{cases}$\n",
    "\n",
    "$w$はパラメータで，$x$は入力ベクトル．$\\phi \\left( x\\right)$は入力ベクトルを特徴ベクトルに変換したもの．\n",
    "\n",
    "学習=パラメータ$w$を2クラス分類できるように最適化すること．\n",
    "\n",
    "# パラメータ$w$の更新\n",
    "パーセプトロンアルゴリズムでは，予測されたラベル$y$が正解であれば$w$はそのまま，不正解であれば更新する．\n",
    "\n",
    "誤分類された$x_{n}$に対して，$-w^{T}\\phi \\left( x_{n}\\right) t_{n}$を最小化する．\n",
    "\n",
    "つまり\n",
    "\n",
    "$E_{p}\\left( w\\right) =-\\sum _{n\\varepsilon M }w^{T}\\phi \\left( x_{n}\\right)t_{n}$\n",
    "\n",
    "$M$は誤分類されたパターンの集合\n",
    "\n",
    "## 勾配法\n",
    "パラメータ$w$を引数としてもつ関数$L\\left( w\\right) $を最小化するための手法．勾配とは，微分をして求めた傾き．\n",
    "\n",
    "一般に$L\\left( w\\right) =\\sum _{n=1}^{N}f_{w}\\left( x_{n}\\right) $のような関数を最小化する問題をにおいて$\\sum$を取り除くと確率的勾配降下法になる．\n",
    "\n",
    "パーセプトロンの場合，\n",
    "$E_{p}\\left( w\\right) =-\\sum _{n\\varepsilon M }w^{T}\\phi \\left( x_{n}\\right)t_{n}$\n",
    "\n",
    "$E_{p}\\left( w\\right) =-w^{T}\\phi \\left( x_{n}\\right)t_{n}$\n",
    "\n",
    "これから勾配を取ると ($w$について微分すると)\n",
    "\n",
    "$\\nabla E_{P}\\left( w\\right) =-\\phi \\left( x_{n}\\right) t_{n}$\n",
    "\n",
    "これを用いて以下のように$w$を更新する．\n",
    "\n",
    "$w^{\\left( r+1\\right) }=w^{\\left( r\\right) }-\\eta \\nabla E_{p}\\left( w\\right) $\n",
    "\n",
    "以下これを実行する．"
   ]
  },
  {
   "cell_type": "code",
   "execution_count": 70,
   "metadata": {
    "collapsed": false
   },
   "outputs": [],
   "source": [
    "%matplotlib inline"
   ]
  },
  {
   "cell_type": "code",
   "execution_count": 71,
   "metadata": {
    "collapsed": true
   },
   "outputs": [],
   "source": [
    "import numpy as np\n",
    "import matplotlib.pyplot as plt\n",
    "from sklearn import datasets\n",
    "from sklearn import cross_validation"
   ]
  },
  {
   "cell_type": "markdown",
   "metadata": {},
   "source": [
    "# データセットのロード\n",
    "手書き数字のデータセット．\n",
    "\n",
    "解像度$8\\times 8$で，それぞれのピクセルの値は$0\\sim 15$の$16$段階で表される．\n",
    "![digits_0](digits_0.png) ![digits_1](digits_1.png)\n",
    "\n",
    "# 学習データとテストデータの分割\n",
    "cross_validation.train_test_split関数で，データセットを学習データ([X, t]\\_train)とテストデータ([X, t]\\_valid)に分割．\n",
    "\n",
    "# バイアスパラメータの付加\n",
    "パラメータベクトル$w$の先頭に$w_{0}=1$を追加している．これをバイアスパラメータという．\n",
    "\n",
    "$f\\left( x \\right) = wx - b$での切片$b$のこと．\n",
    "\n",
    "バイアスパラメータを付加した式は以下のようになる．\n",
    "\n",
    "$y\\left( x,w\\right) =w_{0}+\\sum _{j=1}^{M-1}w_{j}\\phi _{j}\\left( x\\right) $\n",
    "\n",
    "このとき$\\phi_{0} \\left( x \\right) = 1$を追加すると扱いが簡単になる．\n",
    "\n",
    "$y\\left( x,w\\right) =\\sum _{j=0}^{M-1}w_{j}\\phi _{j}\\left( x\\right) = w^{T} \\phi \\left( x \\right)$"
   ]
  },
  {
   "cell_type": "code",
   "execution_count": 72,
   "metadata": {
    "collapsed": true
   },
   "outputs": [],
   "source": [
    "# Load the digits dataset\n",
    "digits = datasets.load_digits(2)    # load two classes, 0 and 1\n",
    "data = digits.data\n",
    "targets = digits.target\n",
    "n = len(data)\n",
    "\n",
    "# add one dimention to future vector for bias\n",
    "ones = np.ones((n, 1))\n",
    "X = np.hstack((ones, data))\n",
    "\n",
    "# put labels into variable y\n",
    "t = targets.reshape(n)\n",
    "t[t == 0] = -1  # zero to -1\n",
    "\n",
    "X_train, X_valid, t_train, t_valid = cross_validation.train_test_split(X, t)\n",
    "\n",
    "n_train = len(X_train)\n",
    "n_valid = len(X_valid)\n",
    "\n",
    "w = np.zeros_like(X[0])"
   ]
  },
  {
   "cell_type": "markdown",
   "metadata": {},
   "source": [
    "# パラメータのセット\n",
    "eta: 学習率$eta$\n",
    "\n",
    "num_iteration: 学習のステップ(繰り返し)回数"
   ]
  },
  {
   "cell_type": "code",
   "execution_count": 73,
   "metadata": {
    "collapsed": true
   },
   "outputs": [],
   "source": [
    "# parameter\n",
    "eta = 1\n",
    "num_iteration = 10"
   ]
  },
  {
   "cell_type": "markdown",
   "metadata": {},
   "source": [
    "# アルゴリズム実装\n",
    "まず\n",
    "\n",
    "$y\\left( x\\right) =f\\left( w^{T}\\phi \\left( x\\right) \\right)$\n",
    "\n",
    "を求め，不正解の場合\n",
    "\n",
    "$w^{\\left( r+1\\right) }=w^{\\left( r\\right) }-\\eta \\nabla E_{p}\\left( w\\right) $\n",
    "\n",
    "$\\nabla E_{P}\\left( w\\right) =-\\phi \\left( x_{n}\\right) t_{n}$\n",
    "\n",
    "より，\n",
    "\n",
    "$w^{\\left( r+1\\right) }=w^{\\left( r\\right) } + \\eta \\phi \\left( x_{n}\\right) t_{n}$\n",
    "\n",
    "# エラー率の計算\n",
    "\n",
    "過学習が起こっているか確認するため，学習データを用いたエラー率(青)とテストデータを用いたエラー率(赤)を計算する．\n",
    "![Error rate](overfitting.png)\n",
    "一定回数学習すると学習データを用いたエラー率は下がるが，テストデータを用いたエラー率は上昇する．\n",
    "\n",
    "テストデータを用いたエラー率が最小になるパラメータを探す．"
   ]
  },
  {
   "cell_type": "code",
   "execution_count": 74,
   "metadata": {
    "collapsed": false
   },
   "outputs": [],
   "source": [
    "# plot\n",
    "error_rates_train = []\n",
    "error_rates_valid = []\n",
    "\n",
    "for r in range(num_iteration):\n",
    "    for xi, ti in zip(X_train, t_train):\n",
    "        yi = np.sign(np.dot(xi, w))\n",
    "        if yi != ti:\n",
    "            w += eta * xi * ti\n",
    "    \n",
    "    # train error rate\n",
    "    xw_train = np.dot(X_train, w)\n",
    "    predicted_train = np.sign(xw_train)\n",
    "    error_rate_train = np.sum(predicted_train != t_train) / float(n_train)\n",
    "    error_rates_train.append(error_rate_train)\n",
    "    \n",
    "    # validation\n",
    "    xw_valid = np.dot(X_valid, w)\n",
    "    predicted_valid = np.sign(xw_valid)\n",
    "    error_rate_valid = np.sum(predicted_valid != t_valid) / float(n_valid)\n",
    "    error_rates_valid.append(error_rate_valid)"
   ]
  },
  {
   "cell_type": "markdown",
   "metadata": {},
   "source": [
    "# 学習結果の表示\n",
    "パラメータ$w$と学習データを用いたエラー率(青, train)とテストデータを用いたエラー率(緑, valid)を表示している．\n",
    "\n",
    "学習データを用いた場合のエラー率が先に下がっているのが分かる．\n",
    "\n",
    "(今回のデータセットは簡単なため，1ステップ目でwが収束するとエラー率が横線になる．)\n",
    "\n",
    "# パラメータベクトル$w$\n",
    "学習されたパラメータ$w$は，イチを表すようなピクセルの部分が白く，ゼロを表すような部分が黒くなっている．"
   ]
  },
  {
   "cell_type": "code",
   "execution_count": 75,
   "metadata": {
    "collapsed": false
   },
   "outputs": [
    {
     "data": {
      "image/png": "[encoded data removed]",
      "text/plain": [
       "<matplotlib.figure.Figure at 0x16646e48>"
      ]
     },
     "metadata": {},
     "output_type": "display_data"
    },
    {
     "data": {
      "image/png": "[encoded data removed]",
      "text/plain": [
       "<matplotlib.figure.Figure at 0x161f3cc0>"
      ]
     },
     "metadata": {},
     "output_type": "display_data"
    }
   ],
   "source": [
    "plt.matshow(w[1:].reshape(8, 8), cmap=plt.cm.gray)\n",
    "\n",
    "plt.figure()\n",
    "plt.plot(np.arange(num_iteration), np.array(error_rates_train))\n",
    "plt.plot(np.arange(num_iteration), np.array(error_rates_valid))\n",
    "plt.legend(['train', 'valid'])\n",
    "plt.show()"
   ]
  },
  {
   "cell_type": "markdown",
   "metadata": {
    "collapsed": true
   },
   "source": [
    "=====================================================================\n",
    "# Pythonの書き方\n",
    "### パラメータベクトルの作成\n",
    "Cっぽく(?)書くと"
   ]
  },
  {
   "cell_type": "code",
   "execution_count": null,
   "metadata": {
    "collapsed": true
   },
   "outputs": [],
   "source": [
    "# initialize weight vector -- this should be function\n",
    "w = np.array([0 for itr in range(65)])\n",
    "# vertical vector\n",
    "w = np.matrix(w).T"
   ]
  },
  {
   "cell_type": "markdown",
   "metadata": {},
   "source": [
    "Pythonっぽく書くと"
   ]
  },
  {
   "cell_type": "code",
   "execution_count": null,
   "metadata": {
    "collapsed": true
   },
   "outputs": [],
   "source": [
    "w = np.zeros_like(X[0])\n",
    "# １次元配列の場合np.dot()等良い様に計算してくれる"
   ]
  },
  {
   "cell_type": "markdown",
   "metadata": {},
   "source": [
    "### 特徴ベクトルの作成\n",
    "Cっぽく(?)書くと"
   ]
  },
  {
   "cell_type": "code",
   "execution_count": null,
   "metadata": {
    "collapsed": true
   },
   "outputs": [],
   "source": [
    "tmp = [[1] for i in range(len(digits.data))]\n",
    "X   = [ 0  for i in range(len(digits.data))]\n",
    "\n",
    "for count in range(len(digits.data)):\n",
    "    for data_i in digits.data[count]:\n",
    "        tmp[count].append(data_i)\n",
    "        X[count] = np.matrix(tmp[count]).T"
   ]
  },
  {
   "cell_type": "markdown",
   "metadata": {},
   "source": [
    "Pythonっぽく書くと"
   ]
  },
  {
   "cell_type": "code",
   "execution_count": null,
   "metadata": {
    "collapsed": true
   },
   "outputs": [],
   "source": [
    "ones = np.ones((n, 1))\n",
    "X = np.hstack((ones, data))"
   ]
  },
  {
   "cell_type": "markdown",
   "metadata": {},
   "source": [
    "### 正解ラベルの入った配列作成\n",
    "Cっぽく(?)書くと"
   ]
  },
  {
   "cell_type": "code",
   "execution_count": null,
   "metadata": {
    "collapsed": true
   },
   "outputs": [],
   "source": [
    "# put rabels into variable y\n",
    "y = [label for label in digits.target]\n",
    "# zero to -1\n",
    "for count in range(len(y)):\n",
    "    if y[count] == 0:\n",
    "        y[count] = -1"
   ]
  },
  {
   "cell_type": "markdown",
   "metadata": {},
   "source": [
    "Pythonっぽく書くと"
   ]
  },
  {
   "cell_type": "code",
   "execution_count": null,
   "metadata": {
    "collapsed": true
   },
   "outputs": [],
   "source": [
    "# put labels into variable y\n",
    "t = targets.reshape(n)\n",
    "t[t == 0] = -1  # zero to -1"
   ]
  },
  {
   "cell_type": "markdown",
   "metadata": {},
   "source": [
    "### Validation\n",
    "forを使って書くと"
   ]
  },
  {
   "cell_type": "code",
   "execution_count": null,
   "metadata": {
    "collapsed": true
   },
   "outputs": [],
   "source": [
    "# validation\n",
    "error_rate_valid = 0\n",
    "for count in range(len(xx)):\n",
    "    ff = f(w.T * xx[count])\n",
    "    if ff != y[count]:\n",
    "        error_rate_valid += 1\n",
    "error_rates_valid.append(error_rate_valid)"
   ]
  },
  {
   "cell_type": "markdown",
   "metadata": {},
   "source": [
    "forを使わないで書くと"
   ]
  },
  {
   "cell_type": "code",
   "execution_count": null,
   "metadata": {
    "collapsed": true
   },
   "outputs": [],
   "source": [
    "# validation\n",
    "xw_valid = np.dot(X_valid, w)\n",
    "predicted_valid = np.sign(xw_valid)\n",
    "error_rate_valid = np.sum(predicted_valid != t_valid) / float(n_valid)\n",
    "error_rates_valid.append(error_rate_valid)"
   ]
  }
 ],
 "metadata": {
  "kernelspec": {
   "display_name": "Python 2",
   "language": "python",
   "name": "python2"
  },
  "language_info": {
   "codemirror_mode": {
    "name": "ipython",
    "version": 2
   },
   "file_extension": ".py",
   "mimetype": "text/x-python",
   "name": "python",
   "nbconvert_exporter": "python",
   "pygments_lexer": "ipython2",
   "version": "2.7.8"
  }
 },
 "nbformat": 4,
 "nbformat_minor": 0
}

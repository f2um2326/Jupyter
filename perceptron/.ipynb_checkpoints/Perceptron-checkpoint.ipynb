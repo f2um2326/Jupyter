{
 "cells": [
  {
   "cell_type": "code",
   "execution_count": 1,
   "metadata": {
    "collapsed": false
   },
   "outputs": [
    {
     "name": "stdout",
     "output_type": "stream",
     "text": [
      "iteration 0\n",
      "iteration 1\n",
      "iteration 2\n",
      "iteration 3\n",
      "iteration 4\n",
      "iteration 5\n",
      "iteration 6\n",
      "iteration 7\n",
      "iteration 8\n",
      "iteration 9\n"
     ]
    }
   ],
   "source": [
    "import numpy as np\n",
    "import matplotlib.pyplot as plt\n",
    "from sklearn import datasets\n",
    "from sklearn import cross_validation\n",
    "\n",
    "# Load the digits dataset\n",
    "digits = datasets.load_digits(2)    # load two classes, 0 and 1\n",
    "data = digits.data\n",
    "targets = digits.target\n",
    "n = len(data)\n",
    "\n",
    "# add one dimention to future vector for bias\n",
    "ones = np.ones((n, 1))\n",
    "X = np.hstack((ones, data))\n",
    "\n",
    "# put labels into variable y\n",
    "y = targets.reshape(n)\n",
    "y[y == 0] = -1  # zero to -1\n",
    "\n",
    "X_train, X_valid, y_train, y_valid = cross_validation.train_test_split(X, y)\n",
    "\n",
    "n_train = len(X_train)\n",
    "n_valid = len(X_valid)\n",
    "\n",
    "w = np.zeros_like(X[0])\n",
    "\n",
    "# parameter\n",
    "eta = 1\n",
    "num_iteration = 10\n",
    "\n",
    "# plot\n",
    "error_rates_train = []\n",
    "error_rates_valid = []\n",
    "\n",
    "for r in range(num_iteration):\n",
    "    print \"iteration\", r\n",
    "    for xi, yi in zip(X_train, y_train):\n",
    "        if np.sign(np.dot(xi, w)) != yi:\n",
    "            w += eta * xi * yi\n",
    "            # print \"w\", w[0]\n",
    "\n",
    "    # train error rate\n",
    "    xw_t = np.dot(X_train, w)\n",
    "    predicted_t = np.sign(xw_t)\n",
    "    error_rate_train = np.sum(predicted_t != y_train) / float(n_train)\n",
    "    #print \"[train] error rate\", error_rate_train\n",
    "    error_rates_train.append(error_rate_train)\n",
    "\n",
    "    # validation\n",
    "    xw_v = np.dot(X_valid, w)\n",
    "    predicted_v = np.sign(xw_v)\n",
    "    error_rate_valid = np.sum(predicted_v != y_valid) / float(n_valid)\n",
    "    #print \"[valid] error rate\", error_rate_valid\n",
    "    error_rates_valid.append(error_rate_valid)\n",
    "\n",
    "plt.matshow(w[1:].reshape(8, 8), cmap=plt.cm.gray)\n",
    "\n",
    "plt.figure()\n",
    "plt.plot(np.arange(num_iteration), np.array(error_rates_train))\n",
    "plt.plot(np.arange(num_iteration), np.array(error_rates_valid))\n",
    "plt.legend(['train', 'valid'])\n",
    "plt.show()\n"
   ]
  },
  {
   "cell_type": "markdown",
   "metadata": {},
   "source": [
    "### aaa"
   ]
  },
  {
   "cell_type": "code",
   "execution_count": 2,
   "metadata": {
    "collapsed": true
   },
   "outputs": [],
   "source": [
    "## aaa"
   ]
  },
  {
   "cell_type": "code",
   "execution_count": null,
   "metadata": {
    "collapsed": true
   },
   "outputs": [],
   "source": []
  }
 ],
 "metadata": {
  "kernelspec": {
   "display_name": "Python 2",
   "language": "python",
   "name": "python2"
  },
  "language_info": {
   "codemirror_mode": {
    "name": "ipython",
    "version": 2
   },
   "file_extension": ".py",
   "mimetype": "text/x-python",
   "name": "python",
   "nbconvert_exporter": "python",
   "pygments_lexer": "ipython2",
   "version": "2.7.8"
  }
 },
 "nbformat": 4,
 "nbformat_minor": 0
}
